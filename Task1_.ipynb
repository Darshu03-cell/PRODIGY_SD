{
  "nbformat": 4,
  "nbformat_minor": 0,
  "metadata": {
    "colab": {
      "provenance": [],
      "authorship_tag": "ABX9TyO+SNwWeE4zq4PerOcIu3E2",
      "include_colab_link": true
    },
    "kernelspec": {
      "name": "python3",
      "display_name": "Python 3"
    },
    "language_info": {
      "name": "python"
    }
  },
  "cells": [
    {
      "cell_type": "markdown",
      "metadata": {
        "id": "view-in-github",
        "colab_type": "text"
      },
      "source": [
        "<a href=\"https://colab.research.google.com/github/Darshu03-cell/PRODIGY_SD/blob/main/Task1_.ipynb\" target=\"_parent\"><img src=\"https://colab.research.google.com/assets/colab-badge.svg\" alt=\"Open In Colab\"/></a>"
      ]
    },
    {
      "cell_type": "code",
      "execution_count": 3,
      "metadata": {
        "colab": {
          "base_uri": "https://localhost:8080/"
        },
        "id": "0JFP7TFRzYZD",
        "outputId": "f66b6f60-dc9d-45f6-f711-5681464c3852"
      },
      "outputs": [
        {
          "output_type": "stream",
          "name": "stdout",
          "text": [
            "Temperature Conversion Program with Machine Learning\n",
            "--------------------------------------------------\n",
            "Available units: Celsius (C), Fahrenheit (F), Kelvin (K)\n",
            "\n",
            "Enter temperature value: 98\n",
            "Enter the unit (C/F/K): 25\n",
            "Error: Invalid unit. Please use 'C', 'F', or 'K'.\n",
            "\n",
            "Do you want to convert another temperature? (yes/no): yes\n",
            "\n",
            "Enter temperature value: 75\n",
            "Enter the unit (C/F/K): 36\n",
            "Error: Invalid unit. Please use 'C', 'F', or 'K'.\n",
            "\n",
            "Do you want to convert another temperature? (yes/no): yes\n",
            "\n",
            "Enter temperature value: 58\n",
            "Enter the unit (C/F/K): 5\n",
            "Error: Invalid unit. Please use 'C', 'F', or 'K'.\n",
            "\n",
            "Do you want to convert another temperature? (yes/no): no\n",
            "Thank you for using the Temperature Conversion Program.\n"
          ]
        }
      ],
      "source": [
        "import numpy as np\n",
        "from sklearn.linear_model import LinearRegression\n",
        "\n",
        "# Function to convert temperatures\n",
        "def convert_temperature(value, unit):\n",
        "    if unit == 'C':\n",
        "        fahrenheit = (value * 9/5) + 32\n",
        "        kelvin = value + 273.15\n",
        "        return fahrenheit, kelvin\n",
        "    elif unit == 'F':\n",
        "        celsius = (value - 32) * 5/9\n",
        "        kelvin = celsius + 273.15\n",
        "        return celsius, kelvin\n",
        "    elif unit == 'K':\n",
        "        celsius = value - 273.15\n",
        "        fahrenheit = (celsius * 9/5) + 32\n",
        "        return celsius, fahrenheit\n",
        "    else:\n",
        "        raise ValueError(\"Invalid unit. Please use 'C', 'F', or 'K'.\")\n",
        "\n",
        "# Function to predict temperature using ML\n",
        "def predict_temperature(value, unit):\n",
        "    # Sample data for ML model\n",
        "    data = {\n",
        "        'C': [0, 25, 100, -40],\n",
        "        'F': [32, 77, 212, -40],\n",
        "        'K': [273.15, 298.15, 373.15, 233.15]\n",
        "    }\n",
        "\n",
        "    X = np.array(data[unit]).reshape(-1, 1)\n",
        "    y = np.array(data['C']) if unit != 'C' else np.array(data['F'])\n",
        "\n",
        "    # Linear Regression Model\n",
        "    model = LinearRegression()\n",
        "    model.fit(X, y)\n",
        "\n",
        "    # Predict temperature\n",
        "    prediction = model.predict(np.array([[value]]))\n",
        "    return prediction[0]\n",
        "\n",
        "# Main program loop\n",
        "def main():\n",
        "    print(\"Temperature Conversion Program with Machine Learning\")\n",
        "    print(\"--------------------------------------------------\")\n",
        "    print(\"Available units: Celsius (C), Fahrenheit (F), Kelvin (K)\")\n",
        "\n",
        "    while True:\n",
        "        try:\n",
        "            temp_value = float(input(\"\\nEnter temperature value: \"))\n",
        "            temp_unit = input(\"Enter the unit (C/F/K): \").upper()\n",
        "\n",
        "            # Convert temperatures\n",
        "            converted_values = convert_temperature(temp_value, temp_unit)\n",
        "            if temp_unit == 'C':\n",
        "                print(f\"{temp_value}°C = {converted_values[0]:.2f}°F, {converted_values[1]:.2f}K\")\n",
        "            elif temp_unit == 'F':\n",
        "                print(f\"{temp_value}°F = {converted_values[0]:.2f}°C, {converted_values[1]:.2f}K\")\n",
        "            elif temp_unit == 'K':\n",
        "                print(f\"{temp_value}K = {converted_values[0]:.2f}°C, {converted_values[1]:.2f}°F\")\n",
        "\n",
        "            # Predict temperature using ML\n",
        "            predicted_temp = predict_temperature(temp_value, temp_unit)\n",
        "            print(f\"Predicted temperature (using ML) for {temp_value}{temp_unit} is approximately {predicted_temp:.2f}\")\n",
        "\n",
        "        except ValueError as e:\n",
        "            print(f\"Error: {e}\")\n",
        "\n",
        "        cont = input(\"\\nDo you want to convert another temperature? (yes/no): \").lower()\n",
        "        if cont != 'yes':\n",
        "            print(\"Thank you for using the Temperature Conversion Program.\")\n",
        "            break\n",
        "\n",
        "if __name__ == \"__main__\":\n",
        "    main()"
      ]
    }
  ]
}