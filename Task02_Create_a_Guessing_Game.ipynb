{
  "nbformat": 4,
  "nbformat_minor": 0,
  "metadata": {
    "colab": {
      "provenance": [],
      "authorship_tag": "ABX9TyPpGZs9B4lARYk3Mp9mUymZ",
      "include_colab_link": true
    },
    "kernelspec": {
      "name": "python3",
      "display_name": "Python 3"
    },
    "language_info": {
      "name": "python"
    }
  },
  "cells": [
    {
      "cell_type": "markdown",
      "metadata": {
        "id": "view-in-github",
        "colab_type": "text"
      },
      "source": [
        "<a href=\"https://colab.research.google.com/github/Darshu03-cell/PRODIGY_SD/blob/main/Task02_Create_a_Guessing_Game.ipynb\" target=\"_parent\"><img src=\"https://colab.research.google.com/assets/colab-badge.svg\" alt=\"Open In Colab\"/></a>"
      ]
    },
    {
      "cell_type": "code",
      "source": [
        "import random\n",
        "\n",
        "def guessing_game():\n",
        "    number = random.randint(1, 100)\n",
        "    attempts = 0\n",
        "\n",
        "    print(\"Welcome to the Number Guessing Game!\")\n",
        "    print(\"I'm thinking of a number between 1 and 100.\")\n",
        "\n",
        "    while True:\n",
        "        try:\n",
        "            guess = int(input(\"Take a guess: \"))\n",
        "            attempts += 1\n",
        "\n",
        "            if guess < number:\n",
        "                print(\"Too low!\")\n",
        "            elif guess > number:\n",
        "                print(\"Too high!\")\n",
        "            else:\n",
        "                print(f\"Congratulations! You guessed the number in {attempts} attempts.\")\n",
        "                break\n",
        "        except ValueError:\n",
        "            print(\"Invalid input. Please enter a number.\")\n",
        "\n",
        "if __name__ == \"__main__\":\n",
        "    guessing_game()"
      ],
      "metadata": {
        "colab": {
          "base_uri": "https://localhost:8080/"
        },
        "id": "HIlRXFLI60RA",
        "outputId": "a66a24d0-4f60-467f-a230-8e46c17896c3"
      },
      "execution_count": null,
      "outputs": [
        {
          "output_type": "stream",
          "name": "stdout",
          "text": [
            "Welcome to the Number Guessing Game!\n",
            "I'm thinking of a number between 1 and 100.\n",
            "Take a guess: 98\n",
            "Too high!\n",
            "Take a guess: 36\n",
            "Too high!\n",
            "Take a guess: 2\n",
            "Too low!\n",
            "Take a guess: 45\n",
            "Too high!\n",
            "Take a guess: f\n",
            "Invalid input. Please enter a number.\n",
            "Take a guess: 56\n",
            "Too high!\n"
          ]
        }
      ]
    }
  ]
}