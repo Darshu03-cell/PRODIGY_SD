{
  "nbformat": 4,
  "nbformat_minor": 0,
  "metadata": {
    "colab": {
      "provenance": [],
      "authorship_tag": "ABX9TyPnosk6nV4jRynLaFzzZH5f",
      "include_colab_link": true
    },
    "kernelspec": {
      "name": "python3",
      "display_name": "Python 3"
    },
    "language_info": {
      "name": "python"
    }
  },
  "cells": [
    {
      "cell_type": "markdown",
      "metadata": {
        "id": "view-in-github",
        "colab_type": "text"
      },
      "source": [
        "<a href=\"https://colab.research.google.com/github/Darshu03-cell/PRODIGY_SD/blob/main/Task_4_Implement_a_Sudoku_Solver.ipynb\" target=\"_parent\"><img src=\"https://colab.research.google.com/assets/colab-badge.svg\" alt=\"Open In Colab\"/></a>"
      ]
    },
    {
      "cell_type": "code",
      "execution_count": 4,
      "metadata": {
        "colab": {
          "base_uri": "https://localhost:8080/"
        },
        "id": "S6sYjBWIvCuf",
        "outputId": "76a546c4-2829-4579-fb15-02068cda4a11"
      },
      "outputs": [
        {
          "output_type": "stream",
          "name": "stdout",
          "text": [
            "Enter the Sudoku puzzle grid (use 0 for empty cells):\n",
            "Enter row 1 (9 numbers separated by space):  5 3 0 0 7 0 0 0 0\n",
            "Enter row 2 (9 numbers separated by space): 6 0 0 1 9 5 0 0 0\n",
            "Enter row 3 (9 numbers separated by space): 0 9 8 0 0 0 0 6 0\n",
            "Enter row 4 (9 numbers separated by space): 8 0 0 0 6 0 0 0 3\n",
            "Enter row 5 (9 numbers separated by space): 4 0 0 8 0 3 0 0 1\n",
            "Enter row 6 (9 numbers separated by space): 7 0 0 0 2 0 0 0 6\n",
            "Enter row 7 (9 numbers separated by space): 0 6 0 0 0 0 2 8 0\n",
            "Enter row 8 (9 numbers separated by space): 0 0 0 4 1 9 0 0 5\n",
            "Enter row 9 (9 numbers separated by space): 0 0 0 0 8 0 0 7 9\n",
            "\n",
            "Unsolved Sudoku Puzzle:\n",
            "5 3 . . 7 . . . .\n",
            "6 . . 1 9 5 . . .\n",
            ". 9 8 . . . . 6 .\n",
            "8 . . . 6 . . . 3\n",
            "4 . . 8 . 3 . . 1\n",
            "7 . . . 2 . . . 6\n",
            ". 6 . . . . 2 8 .\n",
            ". . . 4 1 9 . . 5\n",
            ". . . . 8 . . 7 9\n",
            "\n",
            "Solved Sudoku Puzzle:\n",
            "5 3 4 6 7 8 9 1 2\n",
            "6 7 2 1 9 5 3 4 8\n",
            "1 9 8 3 4 2 5 6 7\n",
            "8 5 9 7 6 1 4 2 3\n",
            "4 2 6 8 5 3 7 9 1\n",
            "7 1 3 9 2 4 8 5 6\n",
            "9 6 1 5 3 7 2 8 4\n",
            "2 8 7 4 1 9 6 3 5\n",
            "3 4 5 2 8 6 1 7 9\n"
          ]
        }
      ],
      "source": [
        "# Sudoku Solver using Backtracking Algorithm\n",
        "\n",
        "# Function to print the Sudoku grid\n",
        "def print_grid(grid):\n",
        "    for row in grid:\n",
        "        print(\" \".join(str(num) if num != 0 else '.' for num in row))\n",
        "\n",
        "# Function to check if a number is safe to place in a cell\n",
        "def is_safe(grid, row, col, num):\n",
        "    # Check row\n",
        "    for i in range(9):\n",
        "        if grid[row][i] == num:\n",
        "            return False\n",
        "\n",
        "    # Check column\n",
        "    for i in range(9):\n",
        "        if grid[i][col] == num:\n",
        "            return False\n",
        "\n",
        "    # Check 3x3 subgrid\n",
        "    start_row, start_col = 3 * (row // 3), 3 * (col // 3)\n",
        "    for i in range(3):\n",
        "        for j in range(3):\n",
        "            if grid[start_row + i][start_col + j] == num:\n",
        "                return False\n",
        "\n",
        "    return True\n",
        "\n",
        "# Function to find an empty cell in the grid\n",
        "def find_empty(grid):\n",
        "    for row in range(9):\n",
        "        for col in range(9):\n",
        "            if grid[row][col] == 0:  # Empty cell is represented by 0\n",
        "                return row, col\n",
        "    return None\n",
        "\n",
        "# Backtracking function to solve the Sudoku puzzle\n",
        "def solve_sudoku(grid):\n",
        "    empty = find_empty(grid)\n",
        "\n",
        "    # If no empty cell is found, the puzzle is solved\n",
        "    if not empty:\n",
        "        return True\n",
        "\n",
        "    row, col = empty\n",
        "\n",
        "    # Try numbers 1 to 9 in the empty cell\n",
        "    for num in range(1, 10):\n",
        "        if is_safe(grid, row, col, num):\n",
        "            grid[row][col] = num\n",
        "\n",
        "            # Recursively solve the rest of the grid\n",
        "            if solve_sudoku(grid):\n",
        "                return True\n",
        "\n",
        "            # Backtrack if no solution is found\n",
        "            grid[row][col] = 0\n",
        "\n",
        "    return False\n",
        "\n",
        "# Main function to input the Sudoku grid and solve it\n",
        "def main():\n",
        "    print(\"Enter the Sudoku puzzle grid (use 0 for empty cells):\")\n",
        "    grid = []\n",
        "\n",
        "    # Input the grid row by row\n",
        "    for i in range(9):\n",
        "        row = list(map(int, input(f\"Enter row {i+1} (9 numbers separated by space): \").split()))\n",
        "        if len(row) != 9:\n",
        "            print(\"Invalid input. Please enter exactly 9 numbers for each row.\")\n",
        "            return\n",
        "        grid.append(row)\n",
        "\n",
        "    print(\"\\nUnsolved Sudoku Puzzle:\")\n",
        "    print_grid(grid)\n",
        "\n",
        "    # Solve the Sudoku puzzle\n",
        "    if solve_sudoku(grid):\n",
        "        print(\"\\nSolved Sudoku Puzzle:\")\n",
        "        print_grid(grid)\n",
        "    else:\n",
        "        print(\"\\nNo solution exists for the given puzzle.\")\n",
        "\n",
        "if __name__ == \"__main__\":\n",
        "    main()\n"
      ]
    }
  ]
}